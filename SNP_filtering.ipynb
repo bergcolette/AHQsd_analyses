{
 "cells": [
  {
   "cell_type": "code",
   "execution_count": 414,
   "metadata": {},
   "outputs": [],
   "source": [
    "import pandas as pd\n",
    "import numpy as np\n",
    "from pandas.api.types import is_string_dtype\n",
    "from pandas.api.types import is_numeric_dtype\n",
    "import glob"
   ]
  },
  {
   "cell_type": "code",
   "execution_count": null,
   "metadata": {},
   "outputs": [],
   "source": [
    "if filename.parquet does not exist:\n",
    "    read_csv(filename.csv).to_parquet(filename.parquet)"
   ]
  },
  {
   "cell_type": "code",
   "execution_count": 473,
   "metadata": {},
   "outputs": [],
   "source": [
    "# read in the data frame\n",
    "df = pd.read_csv(\"~/Documents/UMontana/Research/YNP/AHQsd/AHQsd_analyses/AHQsd_F2_genotypes_raw.csv\", index_col=False)"
   ]
  },
  {
   "cell_type": "code",
   "execution_count": 416,
   "metadata": {},
   "outputs": [],
   "source": [
    "# replace -1 with NaNs \n",
    "df = df.replace(-1,np.NaN)"
   ]
  },
  {
   "cell_type": "code",
   "execution_count": 417,
   "metadata": {},
   "outputs": [],
   "source": [
    "# name the first column \"indv\"\n",
    "df = df.rename(columns={\"Unnamed: 0\": \"indv\"},inplace=True)"
   ]
  },
  {
   "cell_type": "code",
   "execution_count": 418,
   "metadata": {},
   "outputs": [],
   "source": [
    "# only keep individuals who have at least 1000 SNPs \n",
    "df_indFilt = df[df.sum(axis=1) > 400]"
   ]
  },
  {
   "cell_type": "code",
   "execution_count": 419,
   "metadata": {},
   "outputs": [
    {
     "name": "stderr",
     "output_type": "stream",
     "text": [
      "<ipython-input-419-eebeb41b89e3>:2: SettingWithCopyWarning: \n",
      "A value is trying to be set on a copy of a slice from a DataFrame.\n",
      "Try using .loc[row_indexer,col_indexer] = value instead\n",
      "\n",
      "See the caveats in the documentation: https://pandas.pydata.org/pandas-docs/stable/user_guide/indexing.html#returning-a-view-versus-a-copy\n",
      "  df_indFilt['indv'] = df_indFilt['indv'].str.split('/processed/',expand=True)[1]\n"
     ]
    }
   ],
   "source": [
    "# rename the individuals\n",
    "df_indFilt['indv'] = df_indFilt['indv'].str.split('/processed/',expand=True)[1]"
   ]
  },
  {
   "cell_type": "code",
   "execution_count": 428,
   "metadata": {},
   "outputs": [],
   "source": [
    "# rename columns with positive controls\n",
    "df_indFilt = df_indFilt.replace(to_replace='AHQsd_5.11C', value=\"T_plate5_pos_control\")\n",
    "df_indFilt = df_indFilt.replace(to_replace='AHQsd_6.05B', value=\"N_plate6_pos_control\")\n",
    "df_indFilt = df_indFilt.replace(to_replace='AHQsd_1.03F', value=\"T_plate1_pos_control\")\n",
    "df_indFilt = df_indFilt.replace(to_replace='AHQsd_3.10F', value=\"T_plate3_pos_control\")\n",
    "df_indFilt = df_indFilt.replace(to_replace='AHQsd_1.08A', value=\"F1C_plate1_pos_control\")\n",
    "df_indFilt = df_indFilt.replace(to_replace='AHQsd_1.08E', value=\"N_plate1_pos_control\")"
   ]
  },
  {
   "cell_type": "code",
   "execution_count": 430,
   "metadata": {},
   "outputs": [],
   "source": [
    "# transpose it to look at the sites\n",
    "tdf = df_indFilt.set_index('indv').T"
   ]
  },
  {
   "cell_type": "code",
   "execution_count": 431,
   "metadata": {},
   "outputs": [],
   "source": [
    "# only keep sites where the there are at least 100 SNPs (this is conservative)\n",
    "tdf_siteFilt = tdf[tdf.isna().sum(axis=1) < 200]"
   ]
  },
  {
   "cell_type": "code",
   "execution_count": 423,
   "metadata": {},
   "outputs": [],
   "source": [
    "# make a positive control spreadsheet to explore which sites are segregating\n",
    "df_pos_controls = df_indFilt[(df_indFilt['indv'] == \"T_plate5_pos_control\") |\n",
    "                            (df_indFilt['indv'] == \"N_plate6_pos_control\") |\n",
    "                            (df_indFilt['indv'] == \"F1C_plate1_pos_control\")|\n",
    "                            (df_indFilt['indv'] == \"N_plate1_pos_control\")]"
   ]
  },
  {
   "cell_type": "code",
   "execution_count": 424,
   "metadata": {},
   "outputs": [],
   "source": [
    "#transpose\n",
    "df_pos_controls_T = df_pos_controls.set_index('indv').T"
   ]
  },
  {
   "cell_type": "code",
   "execution_count": 425,
   "metadata": {},
   "outputs": [],
   "source": [
    "#only keep SNPs present in at least 2 of the positive controls\n",
    "pos_controls_filt = df_pos_controls_T[df_pos_controls_T.isna().sum(axis=1) < 2]"
   ]
  },
  {
   "cell_type": "code",
   "execution_count": 439,
   "metadata": {},
   "outputs": [],
   "source": [
    "# use apply to make a table with the lists of genotype counts per individual\n",
    "filt_df_indvs = tdf_siteFilt.apply(pd.Series.value_counts, axis=0)"
   ]
  },
  {
   "cell_type": "code",
   "execution_count": 215,
   "metadata": {},
   "outputs": [],
   "source": [
    "# use apply to make a table with the lists of genotype counts per site\n",
    "filt_df_sites = tdf_siteFilt.apply(pd.Series.value_counts, axis=1)\n"
   ]
  },
  {
   "cell_type": "code",
   "execution_count": 463,
   "metadata": {},
   "outputs": [],
   "source": [
    "# remove sites where the T and N positive controls are heterozygotes \n",
    "AHQsd_genotypes_filt = tdf_siteFilt[tdf_siteFilt['T_plate5_pos_control'] != 1.0]\n",
    "AHQsd_genotypes_filt = tdf_siteFilt[tdf_siteFilt['N_plate6_pos_control'] != 1.0]\n",
    "AHQsd_genotypes_filt = tdf_siteFilt[tdf_siteFilt['N_plate1_pos_control'] != 1.0]"
   ]
  },
  {
   "cell_type": "code",
   "execution_count": 467,
   "metadata": {},
   "outputs": [],
   "source": [
    "AHQsd_genotypes_filt.to_parquet(\"AHQsd_genotypes_filt.parquet\")"
   ]
  }
 ],
 "metadata": {
  "kernelspec": {
   "display_name": "Python 3",
   "language": "python",
   "name": "python3"
  },
  "language_info": {
   "codemirror_mode": {
    "name": "ipython",
    "version": 3
   },
   "file_extension": ".py",
   "mimetype": "text/x-python",
   "name": "python",
   "nbconvert_exporter": "python",
   "pygments_lexer": "ipython3",
   "version": "3.8.3"
  }
 },
 "nbformat": 4,
 "nbformat_minor": 4
}
