{
 "cells": [
  {
   "cell_type": "code",
   "execution_count": 225,
   "metadata": {},
   "outputs": [],
   "source": [
    "import pandas as pd\n",
    "import numpy as np\n",
    "from pandas.api.types import is_string_dtype\n",
    "from pandas.api.types import is_numeric_dtype\n",
    "import glob"
   ]
  },
  {
   "cell_type": "code",
   "execution_count": 226,
   "metadata": {},
   "outputs": [],
   "source": [
    "# read in the list of files\n",
    "data_list_genotypes = glob.glob('/Users/coletteberg/Documents/UMontana/Research/YNP/AHQsd/AHQsd*.012')\n",
    "data_list_indvs = glob.glob('/Users/coletteberg/Documents/UMontana/Research/YNP/AHQsd/AHQsd*.012.indv')\n",
    "data_list_sites = glob.glob('/Users/coletteberg/Documents/UMontana/Research/YNP/AHQsd/AHQsd*.012.pos')"
   ]
  },
  {
   "cell_type": "code",
   "execution_count": 227,
   "metadata": {},
   "outputs": [],
   "source": [
    "data_list_indvs = pd.read_csv('/Users/coletteberg/Documents/UMontana/Research/YNP/AHQsd/AHQsd_chr1.012.indv',names=['ind'], index_col=False)"
   ]
  },
  {
   "cell_type": "code",
   "execution_count": 228,
   "metadata": {},
   "outputs": [],
   "source": [
    "def load_files_g(data_list):\n",
    "    for i in data_list:\n",
    "        yield pd.read_csv(i, sep=\"\\t\", index_col=False, header=None).iloc[:, 1:]"
   ]
  },
  {
   "cell_type": "code",
   "execution_count": 229,
   "metadata": {},
   "outputs": [],
   "source": [
    "def load_files_s(data_list):\n",
    "    for i in data_list:\n",
    "        yield pd.read_csv(i, sep=\"\\t\", index_col=False, header=None)"
   ]
  },
  {
   "cell_type": "code",
   "execution_count": 272,
   "metadata": {},
   "outputs": [],
   "source": [
    "data_genotypes = pd.concat(load_files_g(data_list_genotypes), axis=1)"
   ]
  },
  {
   "cell_type": "code",
   "execution_count": 273,
   "metadata": {},
   "outputs": [],
   "source": [
    "data_sites = pd.concat(load_files_s(data_list_sites), axis=0)"
   ]
  },
  {
   "cell_type": "code",
   "execution_count": 274,
   "metadata": {},
   "outputs": [],
   "source": [
    "tmpDF = pd.DataFrame(columns=['scaffold','chr'])\n",
    "tmpDF[['scaffold','chr']] = data_sites[0].str.split('_', expand=True)"
   ]
  },
  {
   "cell_type": "code",
   "execution_count": 275,
   "metadata": {},
   "outputs": [],
   "source": [
    "data_sites['chr'] = tmpDF['chr']"
   ]
  },
  {
   "cell_type": "code",
   "execution_count": 276,
   "metadata": {},
   "outputs": [],
   "source": [
    "data_sites['site'] = data_sites['chr'].astype(str) + ['_'] + data_sites[1].astype(str)"
   ]
  },
  {
   "cell_type": "code",
   "execution_count": 277,
   "metadata": {},
   "outputs": [],
   "source": [
    "data_genotypes.columns = data_sites['site']"
   ]
  },
  {
   "cell_type": "code",
   "execution_count": 278,
   "metadata": {},
   "outputs": [],
   "source": [
    "data_genotypes.insert(0, 'indv', data_list_indvs['ind'])"
   ]
  },
  {
   "cell_type": "code",
   "execution_count": 280,
   "metadata": {},
   "outputs": [],
   "source": [
    "data_genotypes['indv'] = data_genotypes['indv'].str.split('/processed/',expand=True)[1]"
   ]
  },
  {
   "cell_type": "code",
   "execution_count": 281,
   "metadata": {},
   "outputs": [],
   "source": [
    "data_genotypes.to_parquet(\"AHQsd_F2_genotypes_raw.parquet\")"
   ]
  }
 ],
 "metadata": {
  "kernelspec": {
   "display_name": "Python 3",
   "language": "python",
   "name": "python3"
  },
  "language_info": {
   "codemirror_mode": {
    "name": "ipython",
    "version": 3
   },
   "file_extension": ".py",
   "mimetype": "text/x-python",
   "name": "python",
   "nbconvert_exporter": "python",
   "pygments_lexer": "ipython3",
   "version": "3.8.3"
  }
 },
 "nbformat": 4,
 "nbformat_minor": 4
}
